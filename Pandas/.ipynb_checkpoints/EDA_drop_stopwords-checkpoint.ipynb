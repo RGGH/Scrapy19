{
 "cells": [
  {
   "cell_type": "markdown",
   "metadata": {},
   "source": [
    "## Jobs - drop stopwords \n",
    "##### https://stackoverflow.com/questions/5511708/adding-words-to-nltk-stoplist"
   ]
  },
  {
   "cell_type": "code",
   "execution_count": 1600,
   "metadata": {},
   "outputs": [
    {
     "name": "stderr",
     "output_type": "stream",
     "text": [
      "[nltk_data] Downloading package stopwords to /home/rag/nltk_data...\n",
      "[nltk_data]   Package stopwords is already up-to-date!\n"
     ]
    }
   ],
   "source": [
    "# import sys to get more detailed Python exception info\n",
    "import sys\n",
    "import re\n",
    "\n",
    "import nltk\n",
    "from nltk.tokenize import word_tokenize\n",
    "nltk.download('stopwords')\n",
    "stopwords = nltk.corpus.stopwords.words('english')\n",
    "stopwords = ['jooble','engineer','invacancy','...','uk']\n",
    "stopwords.extend(stopwords)\n",
    "\n",
    "from sklearn import svm\n",
    "from sklearn.feature_extraction.text import CountVectorizer\n",
    "\n",
    "\n",
    "# Import PIL for wine bottle\n",
    "from PIL import Image\n",
    "\n",
    "# import Wordcloud \n",
    "from wordcloud import WordCloud, STOPWORDS, ImageColorGenerator\n",
    "\n",
    "# import the connect library for psycopg2\n",
    "import psycopg2\n",
    "\n",
    "# import the error handling libraries for psycopg2\n",
    "from psycopg2 import OperationalError, errorcodes, errors\n",
    "import psycopg2.extras as extras\n",
    "import pandas as pd\n",
    "import numpy as np"
   ]
  },
  {
   "cell_type": "code",
   "execution_count": 1601,
   "metadata": {},
   "outputs": [],
   "source": [
    "# Note: please change your database, username & password as per your own values\n",
    "conn_params_dic = {\n",
    "    \"host\"      : \"192.168.1.9\",\n",
    "    \"database\"  : \"jobs\",\n",
    "    \"user\"      : \"user3\",\n",
    "    \"password\"  : \"password3\"\n",
    "}"
   ]
  },
  {
   "cell_type": "code",
   "execution_count": 1602,
   "metadata": {},
   "outputs": [
    {
     "name": "stdout",
     "output_type": "stream",
     "text": [
      "Connecting to the PostgreSQL...........\n",
      "Connected successfully..................\n"
     ]
    }
   ],
   "source": [
    "def connect(conn_params_dic):\n",
    "    conn = None\n",
    "    try:\n",
    "        print('Connecting to the PostgreSQL...........')\n",
    "        conn = psycopg2.connect(**conn_params_dic)\n",
    "        print(\"Connected successfully..................\")\n",
    "        \n",
    "    except OperationalError as err:\n",
    "        # passing exception to function\n",
    "        show_psycopg2_exception(err)        \n",
    "        # set the connection to 'None' in case of error\n",
    "        conn = None\n",
    "    return conn\n",
    "\n",
    "conn = connect(conn_params_dic)"
   ]
  },
  {
   "cell_type": "code",
   "execution_count": 1603,
   "metadata": {},
   "outputs": [],
   "source": [
    "# Define postgresql_to_dataframe function to load data into a pandas # dataframe\n",
    "def postgresql_to_dataframe(conn, sql, col_names):\n",
    "    cursor = conn.cursor()\n",
    "    try:\n",
    "        cursor.execute(sql)\n",
    "    except (Exception, psycopg2.DatabaseError) as err:\n",
    "        # passing exception to function\n",
    "        show_psycopg2_exception(err)      \n",
    "    \n",
    "    # Naturally we get a list of tupples\n",
    "    tuples = cursor.fetchall()\n",
    "    cursor.close()\n",
    "    \n",
    "    # We just need to turn it into a pandas dataframe\n",
    "    df = pd.DataFrame(tuples, columns=col_names)\n",
    "    return df\n",
    "\n"
   ]
  },
  {
   "cell_type": "code",
   "execution_count": 1604,
   "metadata": {},
   "outputs": [
    {
     "data": {
      "text/plain": [
       "0     jooble - software engineer (crawling/reverse e...\n",
       "1     jooble - senior software engineer, automations...\n",
       "2     jooble - product analystfindlog invacancy 4 fr...\n",
       "3     jooble - principal software engineer - python,...\n",
       "4     jooble - senior data scientist, healthier live...\n",
       "                            ...                        \n",
       "86    jooble - lead devops engineerfindlog invacancy...\n",
       "87    jooble - field service engineer northern irela...\n",
       "88    jooble - principal software development engine...\n",
       "89    jooble - project assistant engineerfindlog inv...\n",
       "90    jooble - project engineerfindlog invacancy 2 f...\n",
       "Name: description, Length: 91, dtype: object"
      ]
     },
     "execution_count": 1604,
     "metadata": {},
     "output_type": "execute_result"
    }
   ],
   "source": [
    "sql = '''select url, description from listings'''\n",
    "col_names = ['url','description']\n",
    "\n",
    "df = postgresql_to_dataframe(conn, sql, col_names)\n",
    "\n",
    "df = df['description'].str.lower()\n",
    "jd"
   ]
  },
  {
   "cell_type": "code",
   "execution_count": 1605,
   "metadata": {},
   "outputs": [
    {
     "data": {
      "text/plain": [
       "redirecting...                                                                                                                                                                                                                                                                                                                                                                                                         9\n",
       "jooble - senior software engineer, automationsfindlog invacancy 5 from 5product analystfull-timetheup.coremoteremote job product analyst  you will wor                                                                                                                                                                                                                                                                 2\n",
       "jooble - remote tech writer (gmt-7 to gmt+1)findlog invacancy 3 from 3senior/lead engineer (typescript/node)$8 per hourfull-timeremoteremote job hi! my name is chris, i’m the ceo of 11sigma  , and i’d like to invite you to join our team.  we started 11sigma in 2018 with a vision of a world of opportunities and the freedom enabled by remote work.  we believe that  remote work is a lifestyle,  it’s        2\n",
       "jooble - senior data scientist, healthier livesfindlog invacancy 2 from 5software engineer (crawling/reverse engineering)$1,000 per monthfull-timeremo                                                                                                                                                                                                                                                                 2\n",
       "jooble - senior data engineerfindlog invacancy 1 from 3senior data engineerfull-timeremoteremote job most important:  solid experience working on data engineering related projects  solid hands-on professional software development skills using java or python.  experience designing, building, and maintaining data systems and processes using cloud-based platforms such as gcp, aws, including working k       2\n",
       "                                                                                                                                                                                                                                                                                                                                                                                                                      ..\n",
       "jooble - informatica (iics) consultantfindlog invacancy 19 from 20data and analytics segment leaderge healthcareremoteremote job job description summa                                                                                                                                                                                                                                                                 1\n",
       "jooble - project engineerfindlog invacancy 4 from 5project assistant engineer£22.18k - £32.23k per annumfull-timecambridgeshire county councilremoteremote jobcambridgeshire county council are looking for an assistant engineer to join a fast-paced projects team delivering small and medium-sized highway schemes across cambridgeshire.  we’re looking for a strong team player interested in working with       1\n",
       "jooble - project assistant engineerfindlog invacancy 3 from 5product manager ido/dexfull-timelatokenremoteremote job latoken digital wallet is growing 35-100% per month on the multibillion money users worldwide market.we made financial account opening as easy as on instagram. yet, there are more people who need to manage money rather than photos.we will be bigger than the social wallet.  role: pro       1\n",
       "jooble - product manager ido/dexfindlog invacancy 7 from 14lead devops engineerfull-timeamach softwareremoteremote job amach is an industry-leading software company with headquarters located in dublin and remote offices in romania and ukraine. established in 2013, we specialise in software delivery, bespoke automation frameworks and cloud consulting. amach are aws registered partners and winners o       1\n",
       "jooble - middle qa automation engineer (python)findlog invacancy 1 from 17middle qa automation engineer (python)remotehubremoteremote job  as qa automation engineer you will be focused on performing hardware validation on our pioneer smart wi-fi products. embrace a stimulating challenge by joining us as a qa automation engineer and take your skills to the next level!\\r\\r required skills\\r requirement    1\n",
       "Name: description, Length: 75, dtype: int64"
      ]
     },
     "execution_count": 1605,
     "metadata": {},
     "output_type": "execute_result"
    }
   ],
   "source": [
    "# tokenize a list\n",
    "#txt = jd[['url','description']]\n",
    "jd.value_counts()"
   ]
  },
  {
   "cell_type": "code",
   "execution_count": 1606,
   "metadata": {},
   "outputs": [],
   "source": [
    "df['tokenized_text'] = jd.apply(word_tokenize) \n",
    "tokenz = df['tokenized_text']"
   ]
  },
  {
   "cell_type": "code",
   "execution_count": 1607,
   "metadata": {},
   "outputs": [],
   "source": [
    "ls = []\n",
    "tokenz\n",
    "for i in tokenz:\n",
    "    d = [x for x in i if x not in stopwords]\n",
    "    d = ' '.join(d)\n",
    "    ls.append(d)\n",
    "ls = ''.join(ls)\n",
    "ls = [ls]"
   ]
  },
  {
   "cell_type": "code",
   "execution_count": 1608,
   "metadata": {},
   "outputs": [
    {
     "name": "stdout",
     "output_type": "stream",
     "text": [
      "[[11  1  9  3  4  1  1  1  1  1  1  1  3  1  4  5  1  3  3  2  1  2  1  1\n",
      "   1  1  2  2  2  2  2  1  1  2  1  2  1  1  2  1  1  2  2  1  4  1  2  3\n",
      "   3  2  1  1  1  1  1  1  1  1  3  3  1  1  4  4  4  5  3  5  6  1  5  2\n",
      "   4  3  2  2  4  1  1  1  1  1  1  1  1  5  1  4  7  9  1  1  1  1  1  1\n",
      "   5  1  2  5  3  4  3  6  1 15  3  4  4  4  2  2 90  2  1 10  1  2  1  1\n",
      "   1  1  1 23  1  5  1  1  2 32 12  6 12  1  4  7  1 10  7  3  6  2  3  1\n",
      "   2  3  3  3  4  3  1  4  2  1  9  3  4  2  1  1  1  1  2  1  3  2  2  1\n",
      "   2  4  3  1  2  2  1  2  3  1  1  1  1  7  2  1  1  1  7  5 10  2  1  1\n",
      "   3  1  1  4  2  1  1  3  1  4  9  9 18  1 10  1  3  2  5  3  1  1 29  1\n",
      "   3  1  1  3  5  4  5  3  1  1  1  4  1  2  1  1  4  1  1  3  2  1  3 10\n",
      "   2  5  4 28  6  4  3  8  1  1  7  3  1  1  1  3  1  4  1  1  2  1  2  4\n",
      "   2  1  1  1  2  1  5  3  3  9 19 11 17  1  1  2  2  5  6  2  3  3  1  1\n",
      "   9  3  5  1  1  2 14  2  1  2  2  1  3  5  3  2  1  3  2  6  3  1  3 14\n",
      "   1  4 34  1  1  1  7  2  2  1 85  9  3  2 14  3  1  1  1  4  1  4  5  2\n",
      "   2  1  8 10  3  4  1  6  2  3  2  2  3  3 10  1  1  2  5  2  4  3  2  1\n",
      "   1  3  1  1  2  7  1  2  1  1  1  4 35  2  4  1  5  1  5  2  1  1  2  2\n",
      "   3  2  1  1  1  2  3  3  2 34  1 11  8 10 68  9 11  2  6  1  1  1  1  3\n",
      "   9  1  1  1  9  3  2  3  2  3  1  2  4  4  3  3  1 20  1  1  5  1  4  2\n",
      "   5  1  1  9  8  9  2  4  3  5  3  3  1  1  1  2  4  5  1  1  1  1  1  5\n",
      "   1  2  6  5  2 10  6  5  3  1  2  1  2  1  4  3  1  1  7  2  9  5  5 41\n",
      "   3  1 31  3  4  1  1  3  2  2  1 15  1  3  1  1 27  5  1  2  5  1  4  1\n",
      "   3  1  6  3  1  4 27  2  2  1  1  3  2  1  7  3  3  2  4  1  1  3  2  3\n",
      "   2  5 13  1  5  5  5  1 24  2  4  3  1  1  8  8  1  5 14  9  1  9  1  3\n",
      "  18  3  4  3  3  1  3  3  1  4  1 25  1  2  1  2  1  2  1  7  2  1  1  2\n",
      "   1 10  2  5  1 11  3  5  3  2  3  1  4  1  3  1  9  3  1  1  2  2  2  3\n",
      "  24  1  1  8  5  2  5  1  1  1  3  3  1  1  4 12  4  2  1  3  2  2  3 49\n",
      "   3 11  1  6  5  1  1  3  3  3  2  3  8  1  1  3  5  1  2  4  1  8  1  3\n",
      "   2  9  1  2  5  1  1  5  4  1  3  2  1  1 16  1 10  2  4  1  1  1  1  6\n",
      "  12 54 10  3  5  3  2  2  1  2  3  1  2  9  6  1  5  3  1  1 21  4  1 60\n",
      "   1  1  5  3  1  1  4  1  3  1  1  2  2  1  6  4  9  2  2  5  2  3  1  2\n",
      "   2  6  1  5  3  3 60  2  2  1  1  3  1  8  3  3 12  1  2  1 20  2  5  9\n",
      "   5  8  2  6  3 23  6]]\n"
     ]
    }
   ],
   "source": [
    "vectorizer = CountVectorizer()\n",
    "X = vectorizer.fit_transform(ls)\n",
    "#print(vectorizer2.get_feature_names())\n",
    "print(X.toarray())\n"
   ]
  }
 ],
 "metadata": {
  "kernelspec": {
   "display_name": "Python 3",
   "language": "python",
   "name": "python3"
  },
  "language_info": {
   "codemirror_mode": {
    "name": "ipython",
    "version": 3
   },
   "file_extension": ".py",
   "mimetype": "text/x-python",
   "name": "python",
   "nbconvert_exporter": "python",
   "pygments_lexer": "ipython3",
   "version": "3.9.5"
  }
 },
 "nbformat": 4,
 "nbformat_minor": 4
}
