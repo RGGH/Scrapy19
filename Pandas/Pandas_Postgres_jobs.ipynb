{
 "cells": [
  {
   "cell_type": "code",
   "execution_count": 47,
   "metadata": {},
   "outputs": [],
   "source": [
    "# import sys to get more detailed Python exception info\n",
    "import sys\n",
    "# import the connect library for psycopg2\n",
    "import psycopg2\n",
    "# import the error handling libraries for psycopg2\n",
    "from psycopg2 import OperationalError, errorcodes, errors\n",
    "import psycopg2.extras as extras\n",
    "import pandas as pd"
   ]
  },
  {
   "cell_type": "code",
   "execution_count": 48,
   "metadata": {},
   "outputs": [],
   "source": [
    "# Note: please change your database, username & password as per your own values\n",
    "conn_params_dic = {\n",
    "    \"host\"      : \"192.168.1.9\",\n",
    "    \"database\"  : \"jobs\",\n",
    "    \"user\"      : \"user3\",\n",
    "    \"password\"  : \"password3\"\n",
    "}"
   ]
  },
  {
   "cell_type": "code",
   "execution_count": 49,
   "metadata": {},
   "outputs": [
    {
     "name": "stdout",
     "output_type": "stream",
     "text": [
      "Connecting to the PostgreSQL...........\n",
      "Connection successfully..................\n"
     ]
    }
   ],
   "source": [
    "def connect(conn_params_dic):\n",
    "    conn = None\n",
    "    try:\n",
    "        print('Connecting to the PostgreSQL...........')\n",
    "        conn = psycopg2.connect(**conn_params_dic)\n",
    "        print(\"Connection successfully..................\")\n",
    "        \n",
    "    except OperationalError as err:\n",
    "        # passing exception to function\n",
    "        show_psycopg2_exception(err)        \n",
    "        # set the connection to 'None' in case of error\n",
    "        conn = None\n",
    "    return conn\n",
    "\n",
    "conn = connect(conn_params_dic)"
   ]
  },
  {
   "cell_type": "code",
   "execution_count": 50,
   "metadata": {},
   "outputs": [],
   "source": [
    "# Define postgresql_to_dataframe function to load data into a pandas # dataframe\n",
    "def postgresql_to_dataframe(conn, sql, col_names):\n",
    "    cursor = conn.cursor()\n",
    "    try:\n",
    "        cursor.execute(sql)\n",
    "    except (Exception, psycopg2.DatabaseError) as err:\n",
    "        # passing exception to function\n",
    "        show_psycopg2_exception(err)      \n",
    "    \n",
    "    # Naturally we get a list of tupples\n",
    "    tupples = cursor.fetchall()\n",
    "    cursor.close()\n",
    "    \n",
    "    # We just need to turn it into a pandas dataframe\n",
    "    df = pd.DataFrame(tupples, columns=col_names)\n",
    "    return df\n",
    "\n"
   ]
  },
  {
   "cell_type": "code",
   "execution_count": 51,
   "metadata": {},
   "outputs": [
    {
     "data": {
      "text/plain": [
       "0     Jooble - Software Engineer (Crawling/Reverse e...\n",
       "1     Jooble - Senior Software Engineer, Automations...\n",
       "2     Jooble - Product AnalystFindLog inVacancy 4 fr...\n",
       "3     Jooble - Principal Software Engineer - Python,...\n",
       "4     Jooble - Senior Data Scientist, Healthier Live...\n",
       "5                                        Redirecting...\n",
       "6     Jooble - Application/Solution ArchitectFindLog...\n",
       "7     Jooble - Informatica (IICS) ConsultantFindLog ...\n",
       "8     Jooble - Data and Analytics Segment LeaderFind...\n",
       "9     Jooble - Product Marketing ManagerFindLog inVa...\n",
       "10    Jooble - Senior Software Engineer, Automations...\n",
       "11    Jooble - UX DesignerFindLog inVacancy 15 from ...\n",
       "12    Jooble - Product ManagerFindLog inVacancy 14 f...\n",
       "13    Jooble - Lead Artist 12 month FTC (PRELOADED) ...\n",
       "14    Jooble - Mobile QA Automation EngineerFindLog ...\n",
       "15    Jooble - Head of EngineeringFindLog inVacancy ...\n",
       "16    Jooble - .NET EngineerFindLog inVacancy 10 fro...\n",
       "17    Jooble - Senior Data Scientist, Healthier Live...\n",
       "18    Jooble - Senior Node.js/GraphQL/PostgreSQL eng...\n",
       "19    Jooble - Product AnalystFindLog inVacancy 7 fr...\n",
       "20    Jooble - IT Operations EngineerFindLog inVacan...\n",
       "21    Jooble - Software Engineer (Crawling/Reverse e...\n",
       "22                                       Redirecting...\n",
       "23    Jooble - Principal Software Engineer - Python,...\n",
       "24                                       Redirecting...\n",
       "25    Jooble - Software Engineer (Crawling/Reverse e...\n",
       "26    Jooble - Senior Software Engineer, Automations...\n",
       "27    Jooble - Product AnalystFindLog inVacancy 4 fr...\n",
       "28    Jooble - Principal Software Engineer - Python,...\n",
       "29    Jooble - Senior Data Scientist, Healthier Live...\n",
       "30                                       Redirecting...\n",
       "31                                       Redirecting...\n",
       "32                                       Redirecting...\n",
       "33    Jooble - Senior Software Engineer, Automations...\n",
       "34    Jooble - Product AnalystFindLog inVacancy 5 fr...\n",
       "35    Jooble - Principal Software Engineer - Python,...\n",
       "36    Jooble - Senior Data Scientist, Healthier Live...\n",
       "37    Jooble - Software Engineer (Crawling/Reverse e...\n",
       "Name: description, dtype: object"
      ]
     },
     "execution_count": 51,
     "metadata": {},
     "output_type": "execute_result"
    }
   ],
   "source": [
    "sql = '''select url, description from listings'''\n",
    "col_names = ['url','description']\n",
    "\n",
    "df = postgresql_to_dataframe(conn, sql, col_names)\n",
    "\n",
    "df['description']"
   ]
  }
 ],
 "metadata": {
  "kernelspec": {
   "display_name": "Python 3.8.5 64-bit",
   "language": "python",
   "name": "python38564bit982d8d98214e4300a676d5af7b109489"
  },
  "language_info": {
   "codemirror_mode": {
    "name": "ipython",
    "version": 3
   },
   "file_extension": ".py",
   "mimetype": "text/x-python",
   "name": "python",
   "nbconvert_exporter": "python",
   "pygments_lexer": "ipython3",
   "version": "3.8.5"
  }
 },
 "nbformat": 4,
 "nbformat_minor": 4
}
